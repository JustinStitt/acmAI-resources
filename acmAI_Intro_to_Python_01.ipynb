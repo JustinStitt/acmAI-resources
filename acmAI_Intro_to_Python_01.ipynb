{
  "nbformat": 4,
  "nbformat_minor": 0,
  "metadata": {
    "colab": {
      "provenance": [],
      "collapsed_sections": [],
      "include_colab_link": true
    },
    "kernelspec": {
      "name": "python3",
      "display_name": "Python 3"
    },
    "language_info": {
      "name": "python"
    }
  },
  "cells": [
    {
      "cell_type": "markdown",
      "metadata": {
        "id": "view-in-github",
        "colab_type": "text"
      },
      "source": [
        "<a href=\"https://colab.research.google.com/github/JustinStitt/acmAI-resources/blob/main/acmAI_Intro_to_Python_01.ipynb\" target=\"_parent\"><img src=\"https://colab.research.google.com/assets/colab-badge.svg\" alt=\"Open In Colab\"/></a>"
      ]
    },
    {
      "cell_type": "markdown",
      "source": [
        "# Welcome to acmAI\n",
        "### Let's learn some of the basics of **Python**!\n",
        "### Python is an extremely powerful (and popular) programming language used for scripting, making games, data science, AI/ML and much, much more.\n",
        "\n",
        "#### We are going to cover the fundamentals of Python in this Google Colab notebook.\n",
        "\n",
        "##### TO-DO's are denoted by **!!**"
      ],
      "metadata": {
        "id": "QL-0C4OxZEyu"
      }
    },
    {
      "cell_type": "markdown",
      "source": [
        "## 1. Variables"
      ],
      "metadata": {
        "id": "NuPiPaaCbp2V"
      }
    },
    {
      "cell_type": "code",
      "execution_count": null,
      "metadata": {
        "colab": {
          "base_uri": "https://localhost:8080/"
        },
        "id": "yzHeEJ9KZBBc",
        "outputId": "402048fd-1d96-495d-bb44-5de2518f3389"
      },
      "outputs": [
        {
          "output_type": "stream",
          "name": "stdout",
          "text": [
            "The sum is:  9\n"
          ]
        }
      ],
      "source": [
        "# Comments start with `#`\n",
        "# Change the value of the `c` variable so that the sum is 13.\n",
        "a = 4\n",
        "b = 5\n",
        "c = 0 # !!change me\n",
        "\n",
        "print(\"The sum is: \", a + b + c)"
      ]
    },
    {
      "cell_type": "markdown",
      "source": [
        "## 2. Data Types"
      ],
      "metadata": {
        "id": "X5iU4nq3bnyL"
      }
    },
    {
      "cell_type": "code",
      "source": [
        "# data types in Python\n",
        "tree = \"sequoia\"\n",
        "pi = 3.1415\n",
        "num_apples = 4\n",
        "is_raining = False\n",
        "beatles = [\"John Lennon\", \"Paul McCartney\", \"George Harrison\", \"Ringo Starr\"]\n",
        "\n",
        "# the `type()` function allows us to check the type of a variable\n",
        "# !!check the type of our variable named `beatles` by adding it to our print\n",
        "print(type(tree), type(pi), type(num_apples), type(is_raining))"
      ],
      "metadata": {
        "id": "VKOKZxi3Zd4h",
        "colab": {
          "base_uri": "https://localhost:8080/"
        },
        "outputId": "75af006a-e9b0-43b5-b13e-e7821e1a916c"
      },
      "execution_count": null,
      "outputs": [
        {
          "output_type": "stream",
          "name": "stdout",
          "text": [
            "<class 'str'> <class 'float'> <class 'int'> <class 'bool'>\n"
          ]
        }
      ]
    },
    {
      "cell_type": "markdown",
      "source": [
        "## 3. Lists"
      ],
      "metadata": {
        "id": "wA28R4Jab7li"
      }
    },
    {
      "cell_type": "code",
      "source": [
        "# lists allow us to store multiple pieces of data in a single variable.\n",
        "spice_girls = [\"Melanie Brown\", \"Melanie Chisholm\", \"Emma Bunton\", \"Geri Halliwell\", \"Victoria Beckham\"]\n",
        "\n",
        "# we can then access specific elements using `[]` operator.\n",
        "print(spice_girls[0]) # list indicies start at 0.\n",
        "\n",
        "# !!print the 3rd Spice Girl\n",
        "\n",
        "# !!print the last Spice Girl\n"
      ],
      "metadata": {
        "colab": {
          "base_uri": "https://localhost:8080/"
        },
        "id": "v4bEf5d4bRO2",
        "outputId": "37956a83-546f-4317-fe16-237cc70c2050"
      },
      "execution_count": null,
      "outputs": [
        {
          "output_type": "stream",
          "name": "stdout",
          "text": [
            "Melanie Brown\n"
          ]
        }
      ]
    },
    {
      "cell_type": "code",
      "source": [
        "# we can both access and alter elements within a list, let's try it!\n",
        "nums = [7, 8, 1, 4]\n",
        "\n",
        "# !!change the second element to be double its original value\n",
        "\n",
        "# !!add the value `4` to the end of your list\n",
        "\n",
        "# !!remove the third element from your list\n",
        "\n",
        "# !!now, print your list"
      ],
      "metadata": {
        "id": "sAZRbBm8cCdY"
      },
      "execution_count": null,
      "outputs": []
    },
    {
      "cell_type": "markdown",
      "source": [
        "## 4. Loops / Control Flow (if statements)"
      ],
      "metadata": {
        "id": "fStbS7SGegVI"
      }
    },
    {
      "cell_type": "code",
      "source": [
        "# If we want to add some logic to our Python we can use Loops and Control flow!\n",
        "name = \"Harrison Ford\"\n",
        "\n",
        "# here's a for loop\n",
        "for i in range(len(name)): # i is the index starting from 0 going to n-1\n",
        "  print(name[i], end=' ')\n",
        "\n",
        "print() # new line\n",
        "\n",
        "# or perhaps even simpler\n",
        "for c in name:\n",
        "  print(c, end= ' ')\n",
        "\n",
        "print() # new line\n",
        "\n",
        "# We can add if-statements to not print the letter `r` in the name string\n",
        "for c in name:\n",
        "  if c != \"r\":\n",
        "    print(c, end = ' ')\n",
        "\n",
        "# if-statements have their expression converted to a boolean (True, False) and\n",
        "# will only run if it's True. You can chain together expressions using `and` as\n",
        "# well as `or`.\n",
        "\n",
        "print() # new line\n",
        "\n",
        "# !!write a for loop to print out Harrison Ford without `r`s or `o`s i.e: Haisn Fd\n",
        "\n",
        "\n",
        "# !!research `while` loops and `elif` statements to complete your understanding of loops/control flow"
      ],
      "metadata": {
        "colab": {
          "base_uri": "https://localhost:8080/"
        },
        "id": "jZyTdaRbeigV",
        "outputId": "ecdea1e7-fd4d-421b-ba8f-a5df7e6b784e"
      },
      "execution_count": null,
      "outputs": [
        {
          "output_type": "stream",
          "name": "stdout",
          "text": [
            "H a r r i s o n   F o r d \n",
            "H a r r i s o n   F o r d \n",
            "H a i s o n   F o d \n"
          ]
        }
      ]
    },
    {
      "cell_type": "markdown",
      "source": [
        "## 5. Functions"
      ],
      "metadata": {
        "id": "kvMkGiGFgmvF"
      }
    },
    {
      "cell_type": "code",
      "source": [
        "# We can write functions to simplify our Python programs -- Check it out!\n",
        "def sumOfList(my_list): # the `def` keyword starts a function definition\n",
        "  sum = 0\n",
        "  for number in my_list: # remember loops? 😊\n",
        "    sum += number\n",
        "  return sum # return statements give values back as a result\n",
        "\n",
        "numbers = [7, 8, 1, 4]\n",
        "result = sumOfList(numbers)\n",
        "print(result)"
      ],
      "metadata": {
        "colab": {
          "base_uri": "https://localhost:8080/"
        },
        "id": "4RxmS2QWgnuN",
        "outputId": "650de8f2-bc12-4143-c342-62314f842a1c"
      },
      "execution_count": null,
      "outputs": [
        {
          "output_type": "stream",
          "name": "stdout",
          "text": [
            "20\n"
          ]
        }
      ]
    },
    {
      "cell_type": "code",
      "source": [
        "# !!Using the function above as a template, write a function that multiplies\n",
        "# all the even numbers in a list together.\n",
        "# i.e: [7,8,1,4] should return 32 as this is 8 * 4.\n",
        "# perhaps research how to check if a number is even in Python and use \n",
        "# your newfound knowledge of control flow to assist you.\n",
        "\n",
        "\n"
      ],
      "metadata": {
        "id": "avrqMp8hgzNd"
      },
      "execution_count": null,
      "outputs": []
    },
    {
      "cell_type": "code",
      "source": [
        "# Your functions can have multiple arguments and multiple return paths too!\n",
        "def secret(a, b):\n",
        "  if a == b:\n",
        "    return a * b;\n",
        "  elif a > b:\n",
        "    return a - b\n",
        "  elif a < b:\n",
        "    return a + b\n",
        "  else:\n",
        "    return a / b # can we ever reach this statement?\n",
        "\n",
        "# !!What does the above function do? Maybe write some test inputs to find out!\n",
        "test_input_01 = secret(4, 5)\n",
        "print(test_input_01)\n",
        "\n",
        "\n"
      ],
      "metadata": {
        "colab": {
          "base_uri": "https://localhost:8080/"
        },
        "id": "IZuv5jBXhqaP",
        "outputId": "e6ac8281-6e95-40b4-ce0f-0e5c1063a8ca"
      },
      "execution_count": null,
      "outputs": [
        {
          "output_type": "stream",
          "name": "stdout",
          "text": [
            "9\n"
          ]
        }
      ]
    },
    {
      "cell_type": "code",
      "source": [],
      "metadata": {
        "id": "eyTZFtdAifXK"
      },
      "execution_count": null,
      "outputs": []
    }
  ]
}